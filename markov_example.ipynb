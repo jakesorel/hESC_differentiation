{
 "cells": [
  {
   "cell_type": "code",
   "execution_count": null,
   "metadata": {
    "collapsed": true
   },
   "outputs": [],
   "source": [
    "from markov_simulator import Markov_fit\n",
    "import numpy as np\n",
    "import matplotlib.pyplot as plt"
   ]
  },
  {
   "cell_type": "code",
   "execution_count": null,
   "outputs": [],
   "source": [
    "##Welcome to my package."
   ],
   "metadata": {
    "collapsed": false
   }
  },
  {
   "cell_type": "code",
   "execution_count": null,
   "outputs": [],
   "source": [
    "##Specify the transitions that are possible. This can be any number of observable or non-observable states.\n",
    "transitions_possible = (\"P->A\",\"P->M\",\"P->E\",\"M->E\",\"P->X\")\n",
    "run_params = {\"initial_state\":\"P\", ##This is the state that all of the cells are initially found in\n",
    "               \"dt\":0.1, ##set your time discretisation\n",
    "               \"tfin\":3, ##set the final time (although this dynamically changes in the simulation)\n",
    "               \"allow_all\":False,##you can over-ride the above specification of which transitions are possible or not, saying that all transitions are possible.\n",
    "               \"init_mult\":0.1, ##Some unnecessary parameter used in initialisation, basically preventing the rates going too high\n",
    "              \"states\":[\"P\",\"A\",\"E\",\"M\",\"X\"]## in the case of having 'allow_all' be True, then you need to specify what are the states\n",
    "              }\n",
    "\n",
    "##Set the plot parameters, specifying the colours of your various (measurable) variables. Can use whichever mpl colourmap you want.\n",
    "plot_params = {\"colour_dict\":{\"A\":plt.cm.Oranges,\n",
    "               \"M\":plt.cm.Reds,\n",
    "               \"E\":plt.cm.Blues},\n",
    "               \"vmax\":0.7 ##this caps the highest proportion plotted.\n",
    "               }\n",
    "\n",
    "opt_params = {\"minimizer_params\": {\"maxiter\": 10000},  ##dial this for increasing precision.\n",
    "              \"n_iter\": 8 ##The number of random initialisations you would like to run. This all runs in parallel.\n",
    "              }\n",
    "\n",
    "\n",
    "init_parameter_lims= [(0, 5),  # Beta0, These are the bounds of the initial guess of the parameters.\n",
    "                      (0, 0.1),  # beta1, dependency on a\n",
    "                      (0, 0.1),  # beta2, dependency on b\n",
    "                      (0.05, 0.2),  # mn, minimal value\n",
    "                      (0, 0.4)]  # amp, amplitude of the response at saturating signal.\n",
    "\n",
    "state_names = [\"A\",\"E\",\"M\"] ##these are the names of the states that you want to compare to the data\n",
    "data_names = [\"A\",\"E\",\"M\"] ##these are the corresponding names of the columns in your data sheet.\n",
    "\n",
    "##^^ This is set up such that you can assign multiple states to a given data column\n",
    "## for example, state_names = [\"A\",\"M\",\"ME\"]; data_names = [\"A\",\"M\",\"M\"]\n",
    "\n",
    "markov_fit = Markov_fit(data_file=\"data/proportions_data.csv\",\n",
    "                        results_folder=\"results\",\n",
    "                        init_parameter_lims=init_parameter_lims,\n",
    "                        state_names=state_names,\n",
    "                        data_names=data_names,\n",
    "                        transitions_possible=transitions_possible,\n",
    "                        run_params=run_params,\n",
    "                        opt_params=opt_params,\n",
    "                        plot_params=plot_params)\n",
    "markov_fit.fit_multiple()\n",
    "markov_fit.plot_fits()\n",
    "markov_fit.plot_transitions()\n"
   ],
   "metadata": {
    "collapsed": false
   }
  }
 ],
 "metadata": {
  "kernelspec": {
   "display_name": "Python 3",
   "language": "python",
   "name": "python3"
  },
  "language_info": {
   "codemirror_mode": {
    "name": "ipython",
    "version": 2
   },
   "file_extension": ".py",
   "mimetype": "text/x-python",
   "name": "python",
   "nbconvert_exporter": "python",
   "pygments_lexer": "ipython2",
   "version": "2.7.6"
  }
 },
 "nbformat": 4,
 "nbformat_minor": 0
}
